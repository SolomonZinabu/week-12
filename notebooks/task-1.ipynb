{
 "cells": [
  {
   "cell_type": "code",
   "execution_count": null,
   "metadata": {},
   "outputs": [],
   "source": [
    "# Import necessary libraries and modules\n",
    "import pandas as pd\n",
    "from scripts.data_loading import load_csv\n",
    "from scripts.eda import calculate_text_length, count_by_column\n",
    "from scripts.text_analysis import perform_sentiment_analysis, extract_keywords\n",
    "from scripts.time_series_analysis import analyze_publication_trends\n",
    "from scripts.visualization import plot_counts\n",
    "\n",
    "# Load data\n",
    "file_path = \"../data/raw_analyst_ratings/raw_analyst_ratings.csv\"\n",
    "data = load_csv(file_path)\n",
    "print(data['date'].head())\n",
    "\n",
    "# EDA: Headline length analysis\n",
    "data['headline_length'] = calculate_text_length(data, 'headline')\n",
    "print(data['headline_length'].describe())\n",
    "\n",
    "# EDA: Publisher activity\n",
    "publisher_counts = count_by_column(data, 'publisher')\n",
    "plot_counts(publisher_counts, title=\"Articles by Publisher\", xlabel=\"Publisher\", ylabel=\"Count\")\n",
    "\n",
    "# Sentiment Analysis\n",
    "data['sentiment'] = perform_sentiment_analysis(data['headline'].tolist())\n",
    "print(data['sentiment'].value_counts())\n",
    "\n",
    "# Keyword Extraction\n",
    "keywords = extract_keywords(data['headline'].tolist(), n_keywords=10)\n",
    "print(\"Top Keywords:\", keywords)\n",
    "\n",
    "# Time Series Analysis\n",
    "publication_trends = analyze_publication_trends(data, 'date')\n",
    "publication_trends.plot(title=\"Publication Trends Over Time\")\n"
   ]
  }
 ],
 "metadata": {
  "kernelspec": {
   "display_name": "venv",
   "language": "python",
   "name": "python3"
  },
  "language_info": {
   "codemirror_mode": {
    "name": "ipython",
    "version": 3
   },
   "file_extension": ".py",
   "mimetype": "text/x-python",
   "name": "python",
   "nbconvert_exporter": "python",
   "pygments_lexer": "ipython3",
   "version": "3.12.7"
  }
 },
 "nbformat": 4,
 "nbformat_minor": 2
}
