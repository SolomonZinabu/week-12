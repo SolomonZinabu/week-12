{
 "cells": [
  {
   "cell_type": "code",
   "execution_count": null,
   "metadata": {},
   "outputs": [],
   "source": [
    "# Import required libraries\n",
    "import pandas as pd\n",
    "import matplotlib.pyplot as plt\n",
    "from scripts.news_sentiment import calculate_sentiment_scores\n",
    "from scripts.correlation_analysis import align_datasets, calculate_pearson_correlation\n",
    "\n",
    "# Load datasets\n",
    "news_data = pd.read_csv(\"../data/raw_analyst_ratings/raw_analyst_ratings.csv\")\n",
    "stock_data = pd.read_csv(\"../data/processed_stocks_data.csv\")\n",
    "\n",
    "# Normalize and preprocess news data\n",
    "news_data['date'] = pd.to_datetime(news_data['date'], errors='coerce').dt.tz_localize(None)\n",
    "\n",
    "# Check for any parsing issues\n",
    "if news_data['date'].isnull().any():\n",
    "    print(\"Warning: Some date values could not be parsed and were set to NaT.\")\n",
    "\n",
    "# Calculate daily sentiment scores\n",
    "daily_sentiment = calculate_sentiment_scores(news_data)\n",
    "\n",
    "# Align news and stock datasets\n",
    "aligned_data = align_datasets(stock_data, daily_sentiment)\n",
    "\n",
    "# Calculate Pearson correlation\n",
    "correlation = calculate_pearson_correlation(aligned_data)\n",
    "print(f\"Correlation between stock returns and sentiment scores: {correlation:.2f}\")\n",
    "\n",
    "# Visualization: Sentiment vs Stock Returns\n",
    "plt.figure(figsize=(10, 6))\n",
    "plt.scatter(aligned_data['average_sentiment'], aligned_data['Daily_Return'], alpha=0.6)\n",
    "plt.title(\"Correlation Between Sentiment and Stock Returns\")\n",
    "plt.xlabel(\"Average Sentiment Score\")\n",
    "plt.ylabel(\"Daily Return (%)\")\n",
    "plt.grid(True)\n",
    "plt.show()\n",
    "\n",
    "# Visualization: Time Series Overlay\n",
    "plt.figure(figsize=(12, 6))\n",
    "plt.plot(aligned_data['Date'], aligned_data['Daily_Return'], label=\"Daily Return\", color='blue')\n",
    "plt.plot(aligned_data['Date'], aligned_data['average_sentiment'], label=\"Average Sentiment\", color='orange')\n",
    "plt.title(\"Time Series of Sentiment and Stock Returns\")\n",
    "plt.xlabel(\"Date\")\n",
    "plt.ylabel(\"Value\")\n",
    "plt.legend()\n",
    "plt.grid(True)\n",
    "plt.show()\n"
   ]
  }
 ],
 "metadata": {
  "kernelspec": {
   "display_name": "venv",
   "language": "python",
   "name": "python3"
  },
  "language_info": {
   "codemirror_mode": {
    "name": "ipython",
    "version": 3
   },
   "file_extension": ".py",
   "mimetype": "text/x-python",
   "name": "python",
   "nbconvert_exporter": "python",
   "pygments_lexer": "ipython3",
   "version": "3.12.7"
  }
 },
 "nbformat": 4,
 "nbformat_minor": 2
}
